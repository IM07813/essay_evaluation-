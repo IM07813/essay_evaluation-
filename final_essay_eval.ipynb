{
  "metadata": {
    "kernelspec": {
      "language": "python",
      "display_name": "Python 3",
      "name": "python3"
    },
    "language_info": {
      "name": "python",
      "version": "3.10.10",
      "mimetype": "text/x-python",
      "codemirror_mode": {
        "name": "ipython",
        "version": 3
      },
      "pygments_lexer": "ipython3",
      "nbconvert_exporter": "python",
      "file_extension": ".py"
    },
    "colab": {
      "provenance": []
    }
  },
  "nbformat_minor": 0,
  "nbformat": 4,
  "cells": [
    {
      "cell_type": "code",
      "source": [
        "import numpy as np\n",
        "import pandas as pd\n",
        "from keras.models import Sequential\n",
        "from keras.layers import Embedding, GRU, Dense\n",
        "from keras.optimizers import RMSprop\n",
        "from keras.callbacks import EarlyStopping\n",
        "from sklearn.model_selection import train_test_split\n",
        "from sklearn.metrics import mean_squared_error, r2_score"
      ],
      "metadata": {
        "execution": {
          "iopub.status.busy": "2023-05-27T12:51:39.323941Z",
          "iopub.execute_input": "2023-05-27T12:51:39.324331Z",
          "iopub.status.idle": "2023-05-27T12:51:54.303051Z",
          "shell.execute_reply.started": "2023-05-27T12:51:39.324301Z",
          "shell.execute_reply": "2023-05-27T12:51:54.302034Z"
        },
        "trusted": true,
        "id": "88pSHct_vrEu",
        "outputId": "b1b06637-d334-46c9-a560-53fc23a6db12"
      },
      "execution_count": null,
      "outputs": [
        {
          "name": "stderr",
          "text": "/opt/conda/lib/python3.10/site-packages/tensorflow_io/python/ops/__init__.py:98: UserWarning: unable to load libtensorflow_io_plugins.so: unable to open file: libtensorflow_io_plugins.so, from paths: ['/opt/conda/lib/python3.10/site-packages/tensorflow_io/python/ops/libtensorflow_io_plugins.so']\ncaused by: ['/opt/conda/lib/python3.10/site-packages/tensorflow_io/python/ops/libtensorflow_io_plugins.so: undefined symbol: _ZN3tsl6StatusC1EN10tensorflow5error4CodeESt17basic_string_viewIcSt11char_traitsIcEENS_14SourceLocationE']\n  warnings.warn(f\"unable to load libtensorflow_io_plugins.so: {e}\")\n/opt/conda/lib/python3.10/site-packages/tensorflow_io/python/ops/__init__.py:104: UserWarning: file system plugins are not loaded: unable to open file: libtensorflow_io.so, from paths: ['/opt/conda/lib/python3.10/site-packages/tensorflow_io/python/ops/libtensorflow_io.so']\ncaused by: ['/opt/conda/lib/python3.10/site-packages/tensorflow_io/python/ops/libtensorflow_io.so: undefined symbol: _ZTVN10tensorflow13GcsFileSystemE']\n  warnings.warn(f\"file system plugins are not loaded: {e}\")\n",
          "output_type": "stream"
        }
      ]
    },
    {
      "cell_type": "code",
      "source": [
        "# Load your dataset from the CSV file\n",
        "data = pd.read_csv('/kaggle/input/cleaneddataset/cleaned_data_v2.csv')"
      ],
      "metadata": {
        "execution": {
          "iopub.status.busy": "2023-05-27T12:52:07.698499Z",
          "iopub.execute_input": "2023-05-27T12:52:07.699251Z",
          "iopub.status.idle": "2023-05-27T12:52:07.947879Z",
          "shell.execute_reply.started": "2023-05-27T12:52:07.699201Z",
          "shell.execute_reply": "2023-05-27T12:52:07.946962Z"
        },
        "trusted": true,
        "id": "BGz01S6avrEy"
      },
      "execution_count": null,
      "outputs": []
    },
    {
      "cell_type": "code",
      "source": [
        "# Split the data into train and test sets\n",
        "X_train, X_test, y_train, y_test = train_test_split(data['essay'], data['scores'], test_size=0.2, random_state=42)"
      ],
      "metadata": {
        "execution": {
          "iopub.status.busy": "2023-05-27T12:52:24.577983Z",
          "iopub.execute_input": "2023-05-27T12:52:24.578353Z",
          "iopub.status.idle": "2023-05-27T12:52:24.593982Z",
          "shell.execute_reply.started": "2023-05-27T12:52:24.578324Z",
          "shell.execute_reply": "2023-05-27T12:52:24.592842Z"
        },
        "trusted": true,
        "id": "GfLonRAdvrE0"
      },
      "execution_count": null,
      "outputs": []
    },
    {
      "cell_type": "code",
      "source": [
        "# Preprocess the text data using GloVe embeddings\n",
        "embedding_dim = 100\n",
        "vocab_size = 10000"
      ],
      "metadata": {
        "execution": {
          "iopub.status.busy": "2023-05-27T13:00:33.678820Z",
          "iopub.execute_input": "2023-05-27T13:00:33.679255Z",
          "iopub.status.idle": "2023-05-27T13:00:33.684977Z",
          "shell.execute_reply.started": "2023-05-27T13:00:33.679206Z",
          "shell.execute_reply": "2023-05-27T13:00:33.684055Z"
        },
        "trusted": true,
        "id": "knVW-T3xvrE3"
      },
      "execution_count": null,
      "outputs": []
    },
    {
      "cell_type": "code",
      "source": [
        "# Load the pre-trained GloVe embedding weights\n",
        "glove_file = '/kaggle/input/glove100d/glove.6B.100d.txt'\n",
        "embedding_index = {}\n",
        "with open(glove_file, 'r', encoding='utf-8') as f:\n",
        "    for line in f:\n",
        "        values = line.split()\n",
        "        word = values[0]\n",
        "        coefs = np.asarray(values[1:], dtype='float32')\n",
        "        embedding_index[word] = coefs"
      ],
      "metadata": {
        "execution": {
          "iopub.status.busy": "2023-05-27T13:00:36.099363Z",
          "iopub.execute_input": "2023-05-27T13:00:36.099719Z",
          "iopub.status.idle": "2023-05-27T13:00:46.883741Z",
          "shell.execute_reply.started": "2023-05-27T13:00:36.099691Z",
          "shell.execute_reply": "2023-05-27T13:00:46.882571Z"
        },
        "trusted": true,
        "id": "zRV--cySvrE4"
      },
      "execution_count": null,
      "outputs": []
    },
    {
      "cell_type": "code",
      "source": [
        "from keras.preprocessing.text import Tokenizer\n",
        "from tensorflow.keras.preprocessing.sequence import pad_sequences\n",
        "\n",
        "# Tokenize the text data\n",
        "tokenizer = Tokenizer(num_words=vocab_size)\n",
        "tokenizer.fit_on_texts(X_train)\n",
        "\n",
        "# Convert text to sequences\n",
        "X_train_seq = tokenizer.texts_to_sequences(X_train)\n",
        "X_test_seq = tokenizer.texts_to_sequences(X_test)\n",
        "\n",
        "# Pad sequences to the same length\n",
        "max_length = max([len(seq) for seq in X_train_seq])\n",
        "X_train_padded = pad_sequences(X_train_seq, maxlen=max_length)\n",
        "X_test_padded = pad_sequences(X_test_seq, maxlen=max_length)\n",
        "\n",
        "# Create the embedding matrix\n",
        "embedding_matrix = np.zeros((vocab_size, embedding_dim))\n",
        "for word, i in tokenizer.word_index.items():\n",
        "    if i < vocab_size:\n",
        "        embedding_vector = embedding_index.get(word)\n",
        "        if embedding_vector is not None:\n",
        "            embedding_matrix[i] = embedding_vector\n"
      ],
      "metadata": {
        "execution": {
          "iopub.status.busy": "2023-05-27T13:00:46.887457Z",
          "iopub.execute_input": "2023-05-27T13:00:46.888458Z",
          "iopub.status.idle": "2023-05-27T13:00:49.670041Z",
          "shell.execute_reply.started": "2023-05-27T13:00:46.888420Z",
          "shell.execute_reply": "2023-05-27T13:00:49.669061Z"
        },
        "trusted": true,
        "id": "dPpqBjzYvrE5"
      },
      "execution_count": null,
      "outputs": []
    },
    {
      "cell_type": "code",
      "source": [
        "# Create the model\n",
        "model = Sequential()\n",
        "model.add(Embedding(vocab_size, embedding_dim, input_length=max_length, weights=[embedding_matrix], trainable=False))\n",
        "model.add(GRU(100, return_sequences=True))\n",
        "model.add(GRU(64))\n",
        "model.add(Dense(1))"
      ],
      "metadata": {
        "execution": {
          "iopub.status.busy": "2023-05-27T13:01:40.714845Z",
          "iopub.execute_input": "2023-05-27T13:01:40.715189Z",
          "iopub.status.idle": "2023-05-27T13:01:41.259767Z",
          "shell.execute_reply.started": "2023-05-27T13:01:40.715161Z",
          "shell.execute_reply": "2023-05-27T13:01:41.258684Z"
        },
        "trusted": true,
        "id": "RN3FiDSUvrE7"
      },
      "execution_count": null,
      "outputs": []
    },
    {
      "cell_type": "code",
      "source": [
        "import tensorflow as tf\n",
        "\n",
        "def r2(y_true, y_pred):\n",
        "    SS_res = tf.reduce_sum(tf.square(y_true - y_pred))\n",
        "    SS_tot = tf.reduce_sum(tf.square(y_true - tf.reduce_mean(y_true)))\n",
        "    return (1 - SS_res / (SS_tot + tf.keras.backend.epsilon()))\n"
      ],
      "metadata": {
        "execution": {
          "iopub.status.busy": "2023-05-27T13:03:29.349088Z",
          "iopub.execute_input": "2023-05-27T13:03:29.350021Z",
          "iopub.status.idle": "2023-05-27T13:03:29.355783Z",
          "shell.execute_reply.started": "2023-05-27T13:03:29.349981Z",
          "shell.execute_reply": "2023-05-27T13:03:29.354843Z"
        },
        "trusted": true,
        "id": "ma-6rufcvrE8"
      },
      "execution_count": null,
      "outputs": []
    },
    {
      "cell_type": "code",
      "source": [
        "model.compile(loss='mean_squared_error', optimizer=RMSprop(lr=0.0006), metrics=['mse', r2])\n"
      ],
      "metadata": {
        "execution": {
          "iopub.status.busy": "2023-05-27T13:03:51.238976Z",
          "iopub.execute_input": "2023-05-27T13:03:51.239354Z",
          "iopub.status.idle": "2023-05-27T13:03:51.251371Z",
          "shell.execute_reply.started": "2023-05-27T13:03:51.239323Z",
          "shell.execute_reply": "2023-05-27T13:03:51.250398Z"
        },
        "trusted": true,
        "id": "RdEg-lxWvrE9"
      },
      "execution_count": null,
      "outputs": []
    },
    {
      "cell_type": "code",
      "source": [
        "# Set up early stopping\n",
        "early_stopping = EarlyStopping(monitor='val_loss', patience=10, restore_best_weights=True)"
      ],
      "metadata": {
        "execution": {
          "iopub.status.busy": "2023-05-27T13:03:52.558600Z",
          "iopub.execute_input": "2023-05-27T13:03:52.558960Z",
          "iopub.status.idle": "2023-05-27T13:03:52.564184Z",
          "shell.execute_reply.started": "2023-05-27T13:03:52.558930Z",
          "shell.execute_reply": "2023-05-27T13:03:52.563012Z"
        },
        "trusted": true,
        "id": "pJBCVQ0KvrE_"
      },
      "execution_count": null,
      "outputs": []
    },
    {
      "cell_type": "code",
      "source": [
        "# Train the model\n",
        "history = model.fit(X_train_padded, y_train, batch_size=128, epochs=100, validation_split=0.2, callbacks=[early_stopping])"
      ],
      "metadata": {
        "execution": {
          "iopub.status.busy": "2023-05-27T13:08:42.794260Z",
          "iopub.execute_input": "2023-05-27T13:08:42.794647Z",
          "iopub.status.idle": "2023-05-27T13:10:28.207877Z",
          "shell.execute_reply.started": "2023-05-27T13:08:42.794617Z",
          "shell.execute_reply": "2023-05-27T13:10:28.206959Z"
        },
        "trusted": true,
        "id": "0cH1iZuavrFA",
        "outputId": "d7961dc1-5948-4fdf-9350-16855501e329"
      },
      "execution_count": null,
      "outputs": [
        {
          "name": "stdout",
          "text": "Epoch 1/100\n45/45 [==============================] - 4s 92ms/step - loss: 0.2591 - mse: 0.2591 - r2: 0.8248 - val_loss: 0.2942 - val_mse: 0.2942 - val_r2: 0.7967\nEpoch 2/100\n45/45 [==============================] - 4s 90ms/step - loss: 0.2509 - mse: 0.2509 - r2: 0.8307 - val_loss: 0.2924 - val_mse: 0.2924 - val_r2: 0.7995\nEpoch 3/100\n45/45 [==============================] - 4s 92ms/step - loss: 0.2538 - mse: 0.2538 - r2: 0.8287 - val_loss: 0.2651 - val_mse: 0.2651 - val_r2: 0.8184\nEpoch 4/100\n45/45 [==============================] - 4s 96ms/step - loss: 0.2476 - mse: 0.2476 - r2: 0.8343 - val_loss: 0.2801 - val_mse: 0.2801 - val_r2: 0.8082\nEpoch 5/100\n45/45 [==============================] - 4s 86ms/step - loss: 0.2418 - mse: 0.2418 - r2: 0.8370 - val_loss: 0.2645 - val_mse: 0.2645 - val_r2: 0.8186\nEpoch 6/100\n45/45 [==============================] - 4s 91ms/step - loss: 0.2409 - mse: 0.2409 - r2: 0.8377 - val_loss: 0.2625 - val_mse: 0.2625 - val_r2: 0.8199\nEpoch 7/100\n45/45 [==============================] - 4s 91ms/step - loss: 0.2344 - mse: 0.2344 - r2: 0.8426 - val_loss: 0.3230 - val_mse: 0.3230 - val_r2: 0.7784\nEpoch 8/100\n45/45 [==============================] - 4s 87ms/step - loss: 0.2350 - mse: 0.2350 - r2: 0.8410 - val_loss: 0.2745 - val_mse: 0.2745 - val_r2: 0.8109\nEpoch 9/100\n45/45 [==============================] - 4s 92ms/step - loss: 0.2304 - mse: 0.2304 - r2: 0.8439 - val_loss: 0.2754 - val_mse: 0.2754 - val_r2: 0.8109\nEpoch 10/100\n45/45 [==============================] - 4s 85ms/step - loss: 0.2325 - mse: 0.2325 - r2: 0.8435 - val_loss: 0.2879 - val_mse: 0.2879 - val_r2: 0.8013\nEpoch 11/100\n45/45 [==============================] - 4s 87ms/step - loss: 0.2261 - mse: 0.2261 - r2: 0.8466 - val_loss: 0.2714 - val_mse: 0.2714 - val_r2: 0.8135\nEpoch 12/100\n45/45 [==============================] - 4s 92ms/step - loss: 0.2263 - mse: 0.2263 - r2: 0.8470 - val_loss: 0.2835 - val_mse: 0.2835 - val_r2: 0.8052\nEpoch 13/100\n45/45 [==============================] - 4s 86ms/step - loss: 0.2176 - mse: 0.2176 - r2: 0.8537 - val_loss: 0.2985 - val_mse: 0.2985 - val_r2: 0.7933\nEpoch 14/100\n45/45 [==============================] - 4s 94ms/step - loss: 0.2175 - mse: 0.2175 - r2: 0.8530 - val_loss: 0.2737 - val_mse: 0.2737 - val_r2: 0.8117\nEpoch 15/100\n45/45 [==============================] - 4s 93ms/step - loss: 0.2120 - mse: 0.2120 - r2: 0.8567 - val_loss: 0.2858 - val_mse: 0.2858 - val_r2: 0.8044\nEpoch 16/100\n45/45 [==============================] - 4s 93ms/step - loss: 0.2066 - mse: 0.2066 - r2: 0.8597 - val_loss: 0.3900 - val_mse: 0.3900 - val_r2: 0.7325\n",
          "output_type": "stream"
        }
      ]
    },
    {
      "cell_type": "code",
      "source": [
        "# Evaluate the model\n",
        "y_pred = model.predict(X_test_padded)\n",
        "print(\"Mean Squared Error:\", mean_squared_error(y_test, y_pred))\n",
        "print(\"R-squared:\", r2_score(y_test, y_pred))"
      ],
      "metadata": {
        "execution": {
          "iopub.status.busy": "2023-05-27T13:12:36.820174Z",
          "iopub.execute_input": "2023-05-27T13:12:36.821217Z",
          "iopub.status.idle": "2023-05-27T13:12:48.382948Z",
          "shell.execute_reply.started": "2023-05-27T13:12:36.821171Z",
          "shell.execute_reply": "2023-05-27T13:12:48.381908Z"
        },
        "trusted": true,
        "id": "C1w5YieCvrFB",
        "outputId": "7b245bd2-4083-4a17-ea29-6c308547df39"
      },
      "execution_count": null,
      "outputs": [
        {
          "name": "stdout",
          "text": "57/57 [==============================] - 2s 26ms/step\nMean Squared Error: 0.2794251532510468\nR-squared: 0.8220081990143536\n",
          "output_type": "stream"
        }
      ]
    }
  ]
}